{
 "cells": [
  {
   "cell_type": "markdown",
   "metadata": {},
   "source": [
    "<p style=\"font-family: monospace;\">\n",
    "    &nbsp; Project &nbsp;: Secure Banking System <br />\n",
    "    &nbsp; Module&nbsp;&nbsp;&nbsp;: Client <br />\n",
    "    &nbsp; Version&nbsp;&nbsp;: 1.0.0 <br />\n",
    "    &nbsp; Date&nbsp;&nbsp;&nbsp;&nbsp;&nbsp;: Jul 2021 <br />\n",
    "    &nbsp; Authors&nbsp;&nbsp;:\n",
    "    <ul style=\"margin-left:2em;font-family: monospace;\">\n",
    "      <li>Marzieh Alidadi</li>\n",
    "      <li>Maryam Saeedmehr</li>\n",
    "      <li>Mohammad Reza Mazrouee</li>\n",
    "    </ul> \n",
    "</p>"
   ]
  },
  {
   "cell_type": "code",
   "execution_count": null,
   "metadata": {},
   "outputs": [],
   "source": []
  }
 ],
 "metadata": {
  "kernelspec": {
   "display_name": "Python 3",
   "language": "python",
   "name": "python3"
  },
  "language_info": {
   "codemirror_mode": {
    "name": "ipython",
    "version": 3
   },
   "file_extension": ".py",
   "mimetype": "text/x-python",
   "name": "python",
   "nbconvert_exporter": "python",
   "pygments_lexer": "ipython3",
   "version": "3.8.5"
  }
 },
 "nbformat": 4,
 "nbformat_minor": 4
}
